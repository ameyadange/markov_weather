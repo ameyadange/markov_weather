{
 "cells": [
  {
   "cell_type": "code",
   "execution_count": 15,
   "metadata": {},
   "outputs": [],
   "source": [
    "import plotly.express as px\n",
    "from plotly.subplots import make_subplots\n",
    "import pandas as pd"
   ]
  },
  {
   "cell_type": "code",
   "execution_count": 16,
   "metadata": {},
   "outputs": [],
   "source": [
    "df = pd.read_csv('./weather_states1.csv')\n",
    "predicted_df = pd.read_csv('./predicted.csv')"
   ]
  },
  {
   "cell_type": "code",
   "execution_count": 17,
   "metadata": {},
   "outputs": [],
   "source": [
    "df['date'] = df['date'].astype(str)\n",
    "predicted_df['date'] = predicted_df['date'].astype(str)"
   ]
  },
  {
   "cell_type": "code",
   "execution_count": 18,
   "metadata": {},
   "outputs": [
    {
     "name": "stdout",
     "output_type": "stream",
     "text": [
      "           date temp_class stp_class hmdy_class prcp_class wdct_class  \\\n",
      "0    2020-01-01        <25      <980        >75       <0.1          W   \n",
      "1    2020-01-02        <25      <980        >75       <0.1          S   \n",
      "2    2020-01-03        <25      <980        >75       <0.1          S   \n",
      "3    2020-01-04        <25      <980        >75       <0.1          S   \n",
      "4    2020-01-05        <25      <980        >75   0.1 to 1          W   \n",
      "..          ...        ...       ...        ...        ...        ...   \n",
      "481  2021-04-26   25 to 30     >1000   50 to 75   0.1 to 1          E   \n",
      "482  2021-04-27        <25     >1000   50 to 75       <0.1          S   \n",
      "483  2021-04-28        <25     >1000   50 to 75       <0.1          S   \n",
      "484  2021-04-29   25 to 30     >1000   50 to 75       <0.1          S   \n",
      "485  2021-04-30   25 to 30     >1000   50 to 75       <0.1          S   \n",
      "\n",
      "    wdsp_class  state  \n",
      "0           <5   Haze  \n",
      "1           <5   Haze  \n",
      "2           <5   Haze  \n",
      "3           <5   Haze  \n",
      "4           <5   Rain  \n",
      "..         ...    ...  \n",
      "481         <5   Rain  \n",
      "482         <5  Clear  \n",
      "483         <5  Clear  \n",
      "484         <5  Clear  \n",
      "485         <5  Clear  \n",
      "\n",
      "[486 rows x 8 columns]\n"
     ]
    }
   ],
   "source": [
    "print(predicted_df)"
   ]
  },
  {
   "cell_type": "code",
   "execution_count": 19,
   "metadata": {},
   "outputs": [
    {
     "name": "stdout",
     "output_type": "stream",
     "text": [
      "               date  inme regi      wsnm        lat        lon     elvt  prcp  \\\n",
      "0        2000-05-07  A001   CO  BRASILIA -15.789444 -47.925833  1159.54   0.0   \n",
      "1        2000-05-08  A001   CO  BRASILIA -15.789444 -47.925833  1159.54   0.0   \n",
      "2        2000-05-09  A001   CO  BRASILIA -15.789444 -47.925833  1159.54   0.0   \n",
      "3        2000-05-10  A001   CO  BRASILIA -15.789444 -47.925833  1159.54   0.0   \n",
      "4        2000-05-11  A001   CO  BRASILIA -15.789444 -47.925833  1159.54   0.0   \n",
      "...             ...   ...  ...       ...        ...        ...      ...   ...   \n",
      "2558328  2021-04-26  S717   CO  SELVIRIA -20.351444 -51.430222   374.00   0.0   \n",
      "2558329  2021-04-27  S717   CO  SELVIRIA -20.351444 -51.430222   374.00   0.0   \n",
      "2558330  2021-04-28  S717   CO  SELVIRIA -20.351444 -51.430222   374.00   0.0   \n",
      "2558331  2021-04-29  S717   CO  SELVIRIA -20.351444 -51.430222   374.00   0.0   \n",
      "2558332  2021-04-30  S717   CO  SELVIRIA -20.351444 -51.430222   374.00   0.0   \n",
      "\n",
      "             stp  temp  hmdy   wdct  wdsp  state temp_class stp_class  \\\n",
      "0        886.758  25.1  48.4  129.1  1.77  Clear   25 to 30      <980   \n",
      "1        888.062  22.1  60.5  117.0  2.07  Clear        <25      <980   \n",
      "2        888.083  22.0  58.8  157.5  1.15  Clear        <25      <980   \n",
      "3        888.962  22.5  61.8  159.3  2.01  Clear        <25      <980   \n",
      "4        888.496  21.3  62.4  146.1  2.67  Clear        <25      <980   \n",
      "...          ...   ...   ...    ...   ...    ...        ...       ...   \n",
      "2558328  972.443  21.5  90.1  306.8  4.10   Haze        <25      <980   \n",
      "2558329  972.443  21.5  90.1  306.8  4.10   Haze        <25      <980   \n",
      "2558330  972.443  21.5  90.1  306.8  4.10   Haze        <25      <980   \n",
      "2558331  972.443  21.5  90.1  306.8  4.10   Haze        <25      <980   \n",
      "2558332  972.443  21.5  90.1  306.8  4.10   Haze        <25      <980   \n",
      "\n",
      "        hmdy_class prcp_class wdct_class wdsp_class  \n",
      "0         25 to 50       <0.1          E         <5  \n",
      "1         50 to 75       <0.1          E         <5  \n",
      "2         50 to 75       <0.1          E         <5  \n",
      "3         50 to 75       <0.1          E         <5  \n",
      "4         50 to 75       <0.1          E         <5  \n",
      "...            ...        ...        ...        ...  \n",
      "2558328        >75       <0.1          W         <5  \n",
      "2558329        >75       <0.1          W         <5  \n",
      "2558330        >75       <0.1          W         <5  \n",
      "2558331        >75       <0.1          W         <5  \n",
      "2558332        >75       <0.1          W         <5  \n",
      "\n",
      "[2558333 rows x 20 columns]\n"
     ]
    }
   ],
   "source": [
    "print(df)"
   ]
  },
  {
   "cell_type": "code",
   "execution_count": 20,
   "metadata": {},
   "outputs": [
    {
     "name": "stdout",
     "output_type": "stream",
     "text": [
      "         date temp_class stp_class hmdy_class prcp_class wdct_class  \\\n",
      "0  2020-01-01        <25      <980        >75       <0.1          W   \n",
      "\n",
      "  wdsp_class state  \n",
      "0         <5  Haze  \n"
     ]
    }
   ],
   "source": [
    "new_pdf = predicted_df.loc[predicted_df['date'] == '2020-01-01']\n",
    "print(new_pdf)"
   ]
  },
  {
   "cell_type": "code",
   "execution_count": 21,
   "metadata": {},
   "outputs": [
    {
     "name": "stdout",
     "output_type": "stream",
     "text": [
      "               date  inme regi                 wsnm        lat        lon  \\\n",
      "7178     2020-01-01  A001   CO             BRASILIA -15.789343 -47.925756   \n",
      "14455    2020-01-01  A002   CO              GOIANIA -16.642841 -49.220222   \n",
      "21736    2020-01-01  A003   CO            MORRINHOS -17.745066 -49.101698   \n",
      "22697    2020-01-01  A005   CO            PORANGATU -13.309528 -49.117478   \n",
      "28676    2020-01-01  A009    N               PALMAS -10.190744 -48.301811   \n",
      "...             ...   ...  ...                  ...        ...        ...   \n",
      "2553175  2020-01-01  S713   CO       NOVA ANDRADINA -22.078528 -53.465889   \n",
      "2554359  2020-01-01  S714   CO          PEDRO GOMES -18.072778 -54.548889   \n",
      "2555558  2020-01-01  S715   CO   RIBAS DO RIO PARDO -20.466694 -53.763028   \n",
      "2556725  2020-01-01  S716   CO  SANTA RITA DO PARDO -21.305889 -52.820375   \n",
      "2557847  2020-01-01  S717   CO             SELVIRIA -20.351444 -51.430222   \n",
      "\n",
      "            elvt   prcp      stp  temp  hmdy   wdct  wdsp  state temp_class  \\\n",
      "7178     1160.96  0.017  884.317  21.2  81.0  247.6  1.52   Haze        <25   \n",
      "14455     727.30  1.392  928.762  23.9  76.8  270.1  0.86   Rain        <25   \n",
      "21736     751.09  0.000  926.088  25.2  67.8  232.2  1.74  Clear   25 to 30   \n",
      "22697     365.00  1.933  968.250  24.6  90.4  228.2  0.99   Rain        <25   \n",
      "28676     291.87  0.091  978.032  26.4  77.0  184.8  1.90   Haze   25 to 30   \n",
      "...          ...    ...      ...   ...   ...    ...   ...    ...        ...   \n",
      "2553175   372.00  0.017  969.712  25.5  72.6  122.6  2.07  Clear   25 to 30   \n",
      "2554359   251.00  0.000  981.443  24.6  88.8  183.9  0.57   Haze        <25   \n",
      "2555558   442.00  1.275  958.425  26.1  77.3  209.6  1.76   Rain   25 to 30   \n",
      "2556725   383.00  0.000  964.700  28.1  70.4  250.7  2.22  Clear   25 to 30   \n",
      "2557847   374.00  0.000  965.350  29.4  62.3  306.8  4.10  Clear   25 to 30   \n",
      "\n",
      "          stp_class hmdy_class prcp_class wdct_class wdsp_class  \n",
      "7178           <980        >75       <0.1          S         <5  \n",
      "14455          <980        >75    1 to 10          W         <5  \n",
      "21736          <980   50 to 75       <0.1          S         <5  \n",
      "22697          <980        >75    1 to 10          S         <5  \n",
      "28676          <980        >75       <0.1          S         <5  \n",
      "...             ...        ...        ...        ...        ...  \n",
      "2553175        <980   50 to 75       <0.1          E         <5  \n",
      "2554359  980 to 990        >75       <0.1          S         <5  \n",
      "2555558        <980        >75    1 to 10          S         <5  \n",
      "2556725        <980   50 to 75       <0.1          S         <5  \n",
      "2557847        <980   50 to 75       <0.1          W         <5  \n",
      "\n",
      "[589 rows x 20 columns]\n"
     ]
    }
   ],
   "source": [
    "new_df = df.loc[df['date'] == '2020-01-01']\n",
    "print(new_df)"
   ]
  },
  {
   "cell_type": "code",
   "execution_count": 26,
   "metadata": {},
   "outputs": [
    {
     "name": "stderr",
     "output_type": "stream",
     "text": [
      "/var/folders/hc/306phn6j0gj3538z1msbnzh00000gn/T/ipykernel_65864/1318434202.py:1: DeprecationWarning:\n",
      "\n",
      "*scatter_mapbox* is deprecated! Use *scatter_map* instead. Learn more at: https://plotly.com/python/mapbox-to-maplibre/\n",
      "\n",
      "/var/folders/hc/306phn6j0gj3538z1msbnzh00000gn/T/ipykernel_65864/1318434202.py:13: DeprecationWarning:\n",
      "\n",
      "*scatter_mapbox* is deprecated! Use *scatter_map* instead. Learn more at: https://plotly.com/python/mapbox-to-maplibre/\n",
      "\n"
     ]
    },
    {
     "ename": "ValueError",
     "evalue": "Mime type rendering requires nbformat>=4.2.0 but it is not installed",
     "output_type": "error",
     "traceback": [
      "\u001b[31m---------------------------------------------------------------------------\u001b[39m",
      "\u001b[31mValueError\u001b[39m                                Traceback (most recent call last)",
      "\u001b[36mCell\u001b[39m\u001b[36m \u001b[39m\u001b[32mIn[26]\u001b[39m\u001b[32m, line 22\u001b[39m\n\u001b[32m     11\u001b[39m merged_predicted = pd.merge(new_pdf, df[[\u001b[33m'\u001b[39m\u001b[33mdate\u001b[39m\u001b[33m'\u001b[39m, \u001b[33m'\u001b[39m\u001b[33mlat\u001b[39m\u001b[33m'\u001b[39m, \u001b[33m'\u001b[39m\u001b[33mlon\u001b[39m\u001b[33m'\u001b[39m, \u001b[33m'\u001b[39m\u001b[33mstate\u001b[39m\u001b[33m'\u001b[39m]], on=[\u001b[33m'\u001b[39m\u001b[33mdate\u001b[39m\u001b[33m'\u001b[39m, \u001b[33m'\u001b[39m\u001b[33mstate\u001b[39m\u001b[33m'\u001b[39m], how=\u001b[33m'\u001b[39m\u001b[33mleft\u001b[39m\u001b[33m'\u001b[39m)\n\u001b[32m     13\u001b[39m fig_predicted = px.scatter_mapbox(data_frame=merged_predicted,\n\u001b[32m     14\u001b[39m                             lat=\u001b[33m\"\u001b[39m\u001b[33mlat\u001b[39m\u001b[33m\"\u001b[39m,\n\u001b[32m     15\u001b[39m                             lon=\u001b[33m\"\u001b[39m\u001b[33mlon\u001b[39m\u001b[33m\"\u001b[39m,\n\u001b[32m   (...)\u001b[39m\u001b[32m     19\u001b[39m                             mapbox_style=\u001b[33m\"\u001b[39m\u001b[33mcarto-positron\u001b[39m\u001b[33m\"\u001b[39m,\n\u001b[32m     20\u001b[39m                             )\n\u001b[32m---> \u001b[39m\u001b[32m22\u001b[39m \u001b[43mfig_original\u001b[49m\u001b[43m.\u001b[49m\u001b[43mshow\u001b[49m\u001b[43m(\u001b[49m\u001b[43m)\u001b[49m\n\u001b[32m     23\u001b[39m fig_predicted.show()\n",
      "\u001b[36mFile \u001b[39m\u001b[32m~/Documents/GitHub/markov_weather/markov/lib/python3.13/site-packages/plotly/basedatatypes.py:3420\u001b[39m, in \u001b[36mBaseFigure.show\u001b[39m\u001b[34m(self, *args, **kwargs)\u001b[39m\n\u001b[32m   3387\u001b[39m \u001b[38;5;250m\u001b[39m\u001b[33;03m\"\"\"\u001b[39;00m\n\u001b[32m   3388\u001b[39m \u001b[33;03mShow a figure using either the default renderer(s) or the renderer(s)\u001b[39;00m\n\u001b[32m   3389\u001b[39m \u001b[33;03mspecified by the renderer argument\u001b[39;00m\n\u001b[32m   (...)\u001b[39m\u001b[32m   3416\u001b[39m \u001b[33;03mNone\u001b[39;00m\n\u001b[32m   3417\u001b[39m \u001b[33;03m\"\"\"\u001b[39;00m\n\u001b[32m   3418\u001b[39m \u001b[38;5;28;01mimport\u001b[39;00m\u001b[38;5;250m \u001b[39m\u001b[34;01mplotly\u001b[39;00m\u001b[34;01m.\u001b[39;00m\u001b[34;01mio\u001b[39;00m\u001b[38;5;250m \u001b[39m\u001b[38;5;28;01mas\u001b[39;00m\u001b[38;5;250m \u001b[39m\u001b[34;01mpio\u001b[39;00m\n\u001b[32m-> \u001b[39m\u001b[32m3420\u001b[39m \u001b[38;5;28;01mreturn\u001b[39;00m \u001b[43mpio\u001b[49m\u001b[43m.\u001b[49m\u001b[43mshow\u001b[49m\u001b[43m(\u001b[49m\u001b[38;5;28;43mself\u001b[39;49m\u001b[43m,\u001b[49m\u001b[43m \u001b[49m\u001b[43m*\u001b[49m\u001b[43margs\u001b[49m\u001b[43m,\u001b[49m\u001b[43m \u001b[49m\u001b[43m*\u001b[49m\u001b[43m*\u001b[49m\u001b[43mkwargs\u001b[49m\u001b[43m)\u001b[49m\n",
      "\u001b[36mFile \u001b[39m\u001b[32m~/Documents/GitHub/markov_weather/markov/lib/python3.13/site-packages/plotly/io/_renderers.py:415\u001b[39m, in \u001b[36mshow\u001b[39m\u001b[34m(fig, renderer, validate, **kwargs)\u001b[39m\n\u001b[32m    410\u001b[39m     \u001b[38;5;28;01mraise\u001b[39;00m \u001b[38;5;167;01mValueError\u001b[39;00m(\n\u001b[32m    411\u001b[39m         \u001b[33m\"\u001b[39m\u001b[33mMime type rendering requires ipython but it is not installed\u001b[39m\u001b[33m\"\u001b[39m\n\u001b[32m    412\u001b[39m     )\n\u001b[32m    414\u001b[39m \u001b[38;5;28;01mif\u001b[39;00m \u001b[38;5;129;01mnot\u001b[39;00m nbformat \u001b[38;5;129;01mor\u001b[39;00m Version(nbformat.__version__) < Version(\u001b[33m\"\u001b[39m\u001b[33m4.2.0\u001b[39m\u001b[33m\"\u001b[39m):\n\u001b[32m--> \u001b[39m\u001b[32m415\u001b[39m     \u001b[38;5;28;01mraise\u001b[39;00m \u001b[38;5;167;01mValueError\u001b[39;00m(\n\u001b[32m    416\u001b[39m         \u001b[33m\"\u001b[39m\u001b[33mMime type rendering requires nbformat>=4.2.0 but it is not installed\u001b[39m\u001b[33m\"\u001b[39m\n\u001b[32m    417\u001b[39m     )\n\u001b[32m    419\u001b[39m display_jupyter_version_warnings()\n\u001b[32m    421\u001b[39m ipython_display.display(bundle, raw=\u001b[38;5;28;01mTrue\u001b[39;00m)\n",
      "\u001b[31mValueError\u001b[39m: Mime type rendering requires nbformat>=4.2.0 but it is not installed"
     ]
    }
   ],
   "source": [
    "fig_original= px.scatter_mapbox(data_frame=new_df,\n",
    "                            lat=\"lat\",\n",
    "                            lon=\"lon\",\n",
    "                            color=\"state\",\n",
    "                            color_discrete_map={\"Clear\": \"blue\", \"Haze\": \"green\", \"Windy\": \"red\", \"Rain\": \"black\", \"Heatwave\": \"yellow\"},\n",
    "                            zoom=3,\n",
    "                            mapbox_style=\"carto-positron\",\n",
    "                            )\n",
    "\n",
    "# Merge new_pdf with df to get lat/lon for predicted data\n",
    "merged_predicted = pd.merge(new_pdf, df[['date', 'lat', 'lon', 'state']], on=['date', 'state'], how='left')\n",
    "\n",
    "fig_predicted = px.scatter_mapbox(data_frame=merged_predicted,\n",
    "                            lat=\"lat\",\n",
    "                            lon=\"lon\",\n",
    "                            color=\"state\",\n",
    "                            color_discrete_map={\"Clear\": \"blue\", \"Haze\": \"green\", \"Windy\": \"red\", \"Rain\": \"black\", \"Heatwave\": \"yellow\"},\n",
    "                            zoom=3,\n",
    "                            mapbox_style=\"carto-positron\",\n",
    "                            )\n",
    "\n",
    "fig_original.show()\n",
    "fig_predicted.show()\n"
   ]
  },
  {
   "cell_type": "code",
   "execution_count": null,
   "metadata": {},
   "outputs": [
    {
     "ename": "KeyError",
     "evalue": "\"['inme'] not in index\"",
     "output_type": "error",
     "traceback": [
      "\u001b[31m---------------------------------------------------------------------------\u001b[39m",
      "\u001b[31mKeyError\u001b[39m                                  Traceback (most recent call last)",
      "\u001b[36mCell\u001b[39m\u001b[36m \u001b[39m\u001b[32mIn[13]\u001b[39m\u001b[32m, line 2\u001b[39m\n\u001b[32m      1\u001b[39m small_df = df[[\u001b[33m'\u001b[39m\u001b[33mdate\u001b[39m\u001b[33m'\u001b[39m, \u001b[33m'\u001b[39m\u001b[33minme\u001b[39m\u001b[33m'\u001b[39m, \u001b[33m'\u001b[39m\u001b[33mtemp_class\u001b[39m\u001b[33m'\u001b[39m]]\n\u001b[32m----> \u001b[39m\u001b[32m2\u001b[39m small_pdf = \u001b[43mpredicted_df\u001b[49m\u001b[43m[\u001b[49m\u001b[43m[\u001b[49m\u001b[33;43m'\u001b[39;49m\u001b[33;43mdate\u001b[39;49m\u001b[33;43m'\u001b[39;49m\u001b[43m,\u001b[49m\u001b[43m \u001b[49m\u001b[33;43m'\u001b[39;49m\u001b[33;43minme\u001b[39;49m\u001b[33;43m'\u001b[39;49m\u001b[43m,\u001b[49m\u001b[43m \u001b[49m\u001b[33;43m'\u001b[39;49m\u001b[33;43mtemp_class\u001b[39;49m\u001b[33;43m'\u001b[39;49m\u001b[43m]\u001b[49m\u001b[43m]\u001b[49m\n\u001b[32m      3\u001b[39m common_rows = pd.merge(small_df, small_pdf, on=[\u001b[33m'\u001b[39m\u001b[33mdate\u001b[39m\u001b[33m'\u001b[39m, \u001b[33m'\u001b[39m\u001b[33minme\u001b[39m\u001b[33m'\u001b[39m, \u001b[33m'\u001b[39m\u001b[33mtemp_class\u001b[39m\u001b[33m'\u001b[39m], how=\u001b[33m'\u001b[39m\u001b[33minner\u001b[39m\u001b[33m'\u001b[39m)\n",
      "\u001b[36mFile \u001b[39m\u001b[32m~/Documents/GitHub/markov_weather/markov/lib/python3.13/site-packages/pandas/core/frame.py:4113\u001b[39m, in \u001b[36mDataFrame.__getitem__\u001b[39m\u001b[34m(self, key)\u001b[39m\n\u001b[32m   4111\u001b[39m     \u001b[38;5;28;01mif\u001b[39;00m is_iterator(key):\n\u001b[32m   4112\u001b[39m         key = \u001b[38;5;28mlist\u001b[39m(key)\n\u001b[32m-> \u001b[39m\u001b[32m4113\u001b[39m     indexer = \u001b[38;5;28;43mself\u001b[39;49m\u001b[43m.\u001b[49m\u001b[43mcolumns\u001b[49m\u001b[43m.\u001b[49m\u001b[43m_get_indexer_strict\u001b[49m\u001b[43m(\u001b[49m\u001b[43mkey\u001b[49m\u001b[43m,\u001b[49m\u001b[43m \u001b[49m\u001b[33;43m\"\u001b[39;49m\u001b[33;43mcolumns\u001b[39;49m\u001b[33;43m\"\u001b[39;49m\u001b[43m)\u001b[49m[\u001b[32m1\u001b[39m]\n\u001b[32m   4115\u001b[39m \u001b[38;5;66;03m# take() does not accept boolean indexers\u001b[39;00m\n\u001b[32m   4116\u001b[39m \u001b[38;5;28;01mif\u001b[39;00m \u001b[38;5;28mgetattr\u001b[39m(indexer, \u001b[33m\"\u001b[39m\u001b[33mdtype\u001b[39m\u001b[33m\"\u001b[39m, \u001b[38;5;28;01mNone\u001b[39;00m) == \u001b[38;5;28mbool\u001b[39m:\n",
      "\u001b[36mFile \u001b[39m\u001b[32m~/Documents/GitHub/markov_weather/markov/lib/python3.13/site-packages/pandas/core/indexes/base.py:6212\u001b[39m, in \u001b[36mIndex._get_indexer_strict\u001b[39m\u001b[34m(self, key, axis_name)\u001b[39m\n\u001b[32m   6209\u001b[39m \u001b[38;5;28;01melse\u001b[39;00m:\n\u001b[32m   6210\u001b[39m     keyarr, indexer, new_indexer = \u001b[38;5;28mself\u001b[39m._reindex_non_unique(keyarr)\n\u001b[32m-> \u001b[39m\u001b[32m6212\u001b[39m \u001b[38;5;28;43mself\u001b[39;49m\u001b[43m.\u001b[49m\u001b[43m_raise_if_missing\u001b[49m\u001b[43m(\u001b[49m\u001b[43mkeyarr\u001b[49m\u001b[43m,\u001b[49m\u001b[43m \u001b[49m\u001b[43mindexer\u001b[49m\u001b[43m,\u001b[49m\u001b[43m \u001b[49m\u001b[43maxis_name\u001b[49m\u001b[43m)\u001b[49m\n\u001b[32m   6214\u001b[39m keyarr = \u001b[38;5;28mself\u001b[39m.take(indexer)\n\u001b[32m   6215\u001b[39m \u001b[38;5;28;01mif\u001b[39;00m \u001b[38;5;28misinstance\u001b[39m(key, Index):\n\u001b[32m   6216\u001b[39m     \u001b[38;5;66;03m# GH 42790 - Preserve name from an Index\u001b[39;00m\n",
      "\u001b[36mFile \u001b[39m\u001b[32m~/Documents/GitHub/markov_weather/markov/lib/python3.13/site-packages/pandas/core/indexes/base.py:6264\u001b[39m, in \u001b[36mIndex._raise_if_missing\u001b[39m\u001b[34m(self, key, indexer, axis_name)\u001b[39m\n\u001b[32m   6261\u001b[39m     \u001b[38;5;28;01mraise\u001b[39;00m \u001b[38;5;167;01mKeyError\u001b[39;00m(\u001b[33mf\u001b[39m\u001b[33m\"\u001b[39m\u001b[33mNone of [\u001b[39m\u001b[38;5;132;01m{\u001b[39;00mkey\u001b[38;5;132;01m}\u001b[39;00m\u001b[33m] are in the [\u001b[39m\u001b[38;5;132;01m{\u001b[39;00maxis_name\u001b[38;5;132;01m}\u001b[39;00m\u001b[33m]\u001b[39m\u001b[33m\"\u001b[39m)\n\u001b[32m   6263\u001b[39m not_found = \u001b[38;5;28mlist\u001b[39m(ensure_index(key)[missing_mask.nonzero()[\u001b[32m0\u001b[39m]].unique())\n\u001b[32m-> \u001b[39m\u001b[32m6264\u001b[39m \u001b[38;5;28;01mraise\u001b[39;00m \u001b[38;5;167;01mKeyError\u001b[39;00m(\u001b[33mf\u001b[39m\u001b[33m\"\u001b[39m\u001b[38;5;132;01m{\u001b[39;00mnot_found\u001b[38;5;132;01m}\u001b[39;00m\u001b[33m not in index\u001b[39m\u001b[33m\"\u001b[39m)\n",
      "\u001b[31mKeyError\u001b[39m: \"['inme'] not in index\""
     ]
    }
   ],
   "source": [
    "small_df = df[['date', 'inme', 'temp_class']]\n",
    "small_pdf = predicted_df[['date', 'inme', 'temp_class']]\n",
    "common_rows = pd.merge(small_df, small_pdf, on=['date', 'inme', 'temp_class'], how='inner')"
   ]
  },
  {
   "cell_type": "code",
   "execution_count": null,
   "metadata": {},
   "outputs": [
    {
     "name": "stdout",
     "output_type": "stream",
     "text": [
      "46.93605837396687\n"
     ]
    }
   ],
   "source": [
    "print(common_rows.shape[0]/small_pdf.shape[0]*100)"
   ]
  },
  {
   "cell_type": "code",
   "execution_count": null,
   "metadata": {},
   "outputs": [],
   "source": [
    "small_pdf1 = (predicted_df.groupby('inme')\n",
    "                    .apply(lambda x: x.iloc[:1, :])\n",
    "                    .reset_index(drop=True))\n",
    "common_rows = pd.merge(small_df, small_pdf1, on=['date', 'inme', 'temp_class'], how='inner')"
   ]
  },
  {
   "cell_type": "code",
   "execution_count": null,
   "metadata": {},
   "outputs": [
    {
     "ename": "NameError",
     "evalue": "name 'common_rows' is not defined",
     "output_type": "error",
     "traceback": [
      "\u001b[31m---------------------------------------------------------------------------\u001b[39m",
      "\u001b[31mNameError\u001b[39m                                 Traceback (most recent call last)",
      "\u001b[36mCell\u001b[39m\u001b[36m \u001b[39m\u001b[32mIn[14]\u001b[39m\u001b[32m, line 1\u001b[39m\n\u001b[32m----> \u001b[39m\u001b[32m1\u001b[39m \u001b[38;5;28mprint\u001b[39m(\u001b[43mcommon_rows\u001b[49m.shape[\u001b[32m0\u001b[39m]/small_pdf1.shape[\u001b[32m0\u001b[39m]*\u001b[32m100\u001b[39m)\n",
      "\u001b[31mNameError\u001b[39m: name 'common_rows' is not defined"
     ]
    }
   ],
   "source": [
    "print(common_rows.shape[0]/small_pdf1.shape[0]*100)"
   ]
  }
 ],
 "metadata": {
  "kernelspec": {
   "display_name": "markov",
   "language": "python",
   "name": "python3"
  },
  "language_info": {
   "codemirror_mode": {
    "name": "ipython",
    "version": 3
   },
   "file_extension": ".py",
   "mimetype": "text/x-python",
   "name": "python",
   "nbconvert_exporter": "python",
   "pygments_lexer": "ipython3",
   "version": "3.13.6"
  },
  "orig_nbformat": 4
 },
 "nbformat": 4,
 "nbformat_minor": 2
}
